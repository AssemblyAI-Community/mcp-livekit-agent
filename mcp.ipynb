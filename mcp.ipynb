{
 "cells": [
  {
   "cell_type": "code",
   "execution_count": 1,
   "id": "0d329497-f68a-4f1f-a193-c1ae71b1ec02",
   "metadata": {},
   "outputs": [
    {
     "data": {
      "text/plain": [
       "True"
      ]
     },
     "execution_count": 1,
     "metadata": {},
     "output_type": "execute_result"
    }
   ],
   "source": [
    "from dotenv import load_dotenv\n",
    "\n",
    "load_dotenv()"
   ]
  },
  {
   "cell_type": "code",
   "execution_count": 14,
   "id": "99202428-89db-4942-9293-4e0d81eb15ea",
   "metadata": {},
   "outputs": [],
   "source": [
    "from pydantic_ai import Agent\n",
    "from pydantic_ai.mcp import MCPServerStdio\n",
    "\n",
    "import os\n",
    "\n",
    "server = MCPServerStdio(  \n",
    "    'npx',\n",
    "        args=[\n",
    "          \"-y\",\n",
    "          \"@supabase/mcp-server-supabase@latest\",     \n",
    "          \"--access-token\",\n",
    "          os.environ.get(\"SUPABASE_ACCESS_TOKEN\")\n",
    "        ]\n",
    ")\n",
    "agent = Agent(None, mcp_servers=[server])\n"
   ]
  },
  {
   "cell_type": "code",
   "execution_count": null,
   "id": "0005bc58",
   "metadata": {},
   "outputs": [],
   "source": []
  },
  {
   "cell_type": "code",
   "execution_count": 18,
   "id": "cc4d25b9",
   "metadata": {},
   "outputs": [],
   "source": [
    "from pydantic_ai import Agent as PydanticAgent\n",
    "pydantic_agent = PydanticAgent(None, mcp_servers=[server])"
   ]
  },
  {
   "cell_type": "code",
   "execution_count": 31,
   "id": "cdc4e488",
   "metadata": {},
   "outputs": [
    {
     "data": {
      "text/plain": [
       "MCPServerStdio(command='npx', args=['-y', '@supabase/mcp-server-supabase@latest', '--access-token', 'sbp_f10267332359e54d5cb6435ba796021455e186a6'], env=None, cwd=None)"
      ]
     },
     "execution_count": 31,
     "metadata": {},
     "output_type": "execute_result"
    }
   ],
   "source": [
    "server"
   ]
  },
  {
   "cell_type": "code",
   "execution_count": 30,
   "id": "b7c48bd3",
   "metadata": {},
   "outputs": [
    {
     "data": {
      "text/plain": [
       "[MCPServerStdio(command='npx', args=['-y', '@supabase/mcp-server-supabase@latest', '--access-token', 'sbp_f10267332359e54d5cb6435ba796021455e186a6'], env=None, cwd=None)]"
      ]
     },
     "execution_count": 30,
     "metadata": {},
     "output_type": "execute_result"
    }
   ],
   "source": [
    "pydantic_agent._mcp_servers"
   ]
  },
  {
   "cell_type": "code",
   "execution_count": 29,
   "id": "a71a98d1",
   "metadata": {},
   "outputs": [
    {
     "name": "stdout",
     "output_type": "stream",
     "text": [
      "\u001b[31mSignature:\u001b[39m pydantic_agent.run_mcp_servers() -> \u001b[33m'AsyncIterator[None]'\u001b[39m\n",
      "\u001b[31mSource:\u001b[39m   \n",
      "    @asynccontextmanager\n",
      "    \u001b[38;5;28;01masync\u001b[39;00m \u001b[38;5;28;01mdef\u001b[39;00m run_mcp_servers(self) -> AsyncIterator[\u001b[38;5;28;01mNone\u001b[39;00m]:\n",
      "        \u001b[33m\"\"\"Run [`MCPServerStdio`s][pydantic_ai.mcp.MCPServerStdio] so they can be used by the agent.\u001b[39m\n",
      "\n",
      "\u001b[33m        Returns: a context manager to start and shutdown the servers.\u001b[39m\n",
      "\u001b[33m        \"\"\"\u001b[39m\n",
      "        exit_stack = AsyncExitStack()\n",
      "        \u001b[38;5;28;01mtry\u001b[39;00m:\n",
      "            \u001b[38;5;28;01mfor\u001b[39;00m mcp_server \u001b[38;5;28;01min\u001b[39;00m self._mcp_servers:\n",
      "                \u001b[38;5;28;01mawait\u001b[39;00m exit_stack.enter_async_context(mcp_server)\n",
      "            \u001b[38;5;28;01myield\u001b[39;00m\n",
      "        \u001b[38;5;28;01mfinally\u001b[39;00m:\n",
      "            \u001b[38;5;28;01mawait\u001b[39;00m exit_stack.aclose()\n",
      "\u001b[31mFile:\u001b[39m      ~/Documents/assemblyai/mcp-livekit-agent/aai/lib/python3.11/site-packages/pydantic_ai/agent.py\n",
      "\u001b[31mType:\u001b[39m      method"
     ]
    }
   ],
   "source": [
    "pydantic_agent.run_mcp_servers??"
   ]
  },
  {
   "cell_type": "code",
   "execution_count": 28,
   "id": "1a401ba2",
   "metadata": {},
   "outputs": [
    {
     "name": "stdout",
     "output_type": "stream",
     "text": [
      "True\n",
      "False\n"
     ]
    }
   ],
   "source": [
    "async with pydantic_agent.run_mcp_servers():\n",
    "    print(server.is_running)\n",
    "\n",
    "print(server.is_running)\n"
   ]
  },
  {
   "cell_type": "code",
   "execution_count": 13,
   "id": "94f83e67",
   "metadata": {},
   "outputs": [
    {
     "data": {
      "text/plain": [
       "<async_generator object MCPServerStdio.client_streams at 0x1052d7240>"
      ]
     },
     "execution_count": 13,
     "metadata": {},
     "output_type": "execute_result"
    }
   ],
   "source": [
    "hello = server.client_streams()\n",
    "hello.func(server)"
   ]
  },
  {
   "cell_type": "code",
   "execution_count": 6,
   "id": "27cdedd9",
   "metadata": {},
   "outputs": [
    {
     "ename": "AttributeError",
     "evalue": "'MCPServerStdio' object has no attribute '_client'",
     "output_type": "error",
     "traceback": [
      "\u001b[31m---------------------------------------------------------------------------\u001b[39m",
      "\u001b[31mAttributeError\u001b[39m                            Traceback (most recent call last)",
      "\u001b[36mCell\u001b[39m\u001b[36m \u001b[39m\u001b[32mIn[6]\u001b[39m\u001b[32m, line 1\u001b[39m\n\u001b[32m----> \u001b[39m\u001b[32m1\u001b[39m \u001b[38;5;28;01mawait\u001b[39;00m \u001b[43mserver\u001b[49m\u001b[43m.\u001b[49m\u001b[43m_client\u001b[49m.initialize()\n",
      "\u001b[31mAttributeError\u001b[39m: 'MCPServerStdio' object has no attribute '_client'"
     ]
    }
   ],
   "source": [
    "await server._client.initialize()"
   ]
  },
  {
   "cell_type": "code",
   "execution_count": 78,
   "id": "b386664f",
   "metadata": {},
   "outputs": [
    {
     "data": {
      "text/plain": [
       "{'Metadata-Version': '2.4',\n",
       " 'Name': 'pydantic-ai',\n",
       " 'Version': '0.1.2',\n",
       " 'Summary': 'Agent Framework / shim to use Pydantic with LLMs',\n",
       " 'Project-URL': 'Homepage, https://ai.pydantic.dev',\n",
       " 'Author-email': 'Samuel Colvin <samuel@pydantic.dev>, Marcelo Trylesinski <marcelotryle@gmail.com>, David Montague <david@pydantic.dev>, Alex Hall <alex@pydantic.dev>',\n",
       " 'License-Expression': 'MIT',\n",
       " 'License-File': 'LICENSE',\n",
       " 'Classifier': 'Development Status :: 4 - Beta',\n",
       " 'Requires-Python': '>=3.9',\n",
       " 'Requires-Dist': 'pydantic-ai-slim[anthropic,bedrock,cli,cohere,evals,groq,mcp,mistral,openai,vertexai]==0.1.2',\n",
       " 'Provides-Extra': 'examples',\n",
       " 'Description-Content-Type': 'text/markdown',\n",
       " 'Description': '<div align=\"center\">\\n  <a href=\"https://ai.pydantic.dev/\">\\n    <picture>\\n      <source media=\"(prefers-color-scheme: dark)\" srcset=\"https://ai.pydantic.dev/img/pydantic-ai-dark.svg\">\\n      <img src=\"https://ai.pydantic.dev/img/pydantic-ai-light.svg\" alt=\"PydanticAI\">\\n    </picture>\\n  </a>\\n</div>\\n<div align=\"center\">\\n  <em>Agent Framework / shim to use Pydantic with LLMs</em>\\n</div>\\n<div align=\"center\">\\n  <a href=\"https://github.com/pydantic/pydantic-ai/actions/workflows/ci.yml?query=branch%3Amain\"><img src=\"https://github.com/pydantic/pydantic-ai/actions/workflows/ci.yml/badge.svg?event=push\" alt=\"CI\"></a>\\n  <a href=\"https://coverage-badge.samuelcolvin.workers.dev/redirect/pydantic/pydantic-ai\"><img src=\"https://coverage-badge.samuelcolvin.workers.dev/pydantic/pydantic-ai.svg\" alt=\"Coverage\"></a>\\n  <a href=\"https://pypi.python.org/pypi/pydantic-ai\"><img src=\"https://img.shields.io/pypi/v/pydantic-ai.svg\" alt=\"PyPI\"></a>\\n  <a href=\"https://github.com/pydantic/pydantic-ai\"><img src=\"https://img.shields.io/pypi/pyversions/pydantic-ai.svg\" alt=\"versions\"></a>\\n  <a href=\"https://github.com/pydantic/pydantic-ai/blob/main/LICENSE\"><img src=\"https://img.shields.io/github/license/pydantic/pydantic-ai.svg?v\" alt=\"license\"></a>\\n</div>\\n\\n---\\n\\n**Documentation**: [ai.pydantic.dev](https://ai.pydantic.dev/)\\n\\n---\\n\\nPydanticAI is a Python agent framework designed to make it less painful to build production grade applications with Generative AI.\\n\\nFastAPI revolutionized web development by offering an innovative and ergonomic design, built on the foundation of [Pydantic](https://docs.pydantic.dev).\\n\\nSimilarly, virtually every agent framework and LLM library in Python uses Pydantic, yet when we began to use LLMs in [Pydantic Logfire](https://pydantic.dev/logfire), we couldn\\'t find anything that gave us the same feeling.\\n\\nWe built PydanticAI with one simple aim: to bring that FastAPI feeling to GenAI app development.\\n\\n## Why use PydanticAI\\n\\n* __Built by the Pydantic Team__\\nBuilt by the team behind [Pydantic](https://docs.pydantic.dev/latest/) (the validation layer of the OpenAI SDK, the Anthropic SDK, LangChain, LlamaIndex, AutoGPT, Transformers, CrewAI, Instructor and many more).\\n\\n* __Model-agnostic__\\nSupports OpenAI, Anthropic, Gemini, Deepseek, Ollama, Groq, Cohere, and Mistral, and there is a simple interface to implement support for [other models](https://ai.pydantic.dev/models/).\\n\\n* __Pydantic Logfire Integration__\\nSeamlessly [integrates](https://ai.pydantic.dev/logfire/) with [Pydantic Logfire](https://pydantic.dev/logfire) for real-time debugging, performance monitoring, and behavior tracking of your LLM-powered applications.\\n\\n* __Type-safe__\\nDesigned to make [type checking](https://ai.pydantic.dev/agents/#static-type-checking) as powerful and informative as possible for you.\\n\\n* __Python-centric Design__\\nLeverages Python\\'s familiar control flow and agent composition to build your AI-driven projects, making it easy to apply standard Python best practices you\\'d use in any other (non-AI) project.\\n\\n* __Structured Responses__\\nHarnesses the power of [Pydantic](https://docs.pydantic.dev/latest/) to [validate and structure](https://ai.pydantic.dev/output/#structured-output) model outputs, ensuring responses are consistent across runs.\\n\\n* __Dependency Injection System__\\nOffers an optional [dependency injection](https://ai.pydantic.dev/dependencies/) system to provide data and services to your agent\\'s [system prompts](https://ai.pydantic.dev/agents/#system-prompts), [tools](https://ai.pydantic.dev/tools/) and [output validators](https://ai.pydantic.dev/output/#output-validator-functions).\\nThis is useful for testing and eval-driven iterative development.\\n\\n* __Streamed Responses__\\nProvides the ability to [stream](https://ai.pydantic.dev/output/#streamed-results) LLM outputs continuously, with immediate validation, ensuring rapid and accurate outputs.\\n\\n* __Graph Support__\\n[Pydantic Graph](https://ai.pydantic.dev/graph) provides a powerful way to define graphs using typing hints, this is useful in complex applications where standard control flow can degrade to spaghetti code.\\n\\n## Hello World Example\\n\\nHere\\'s a minimal example of PydanticAI:\\n\\n```python\\nfrom pydantic_ai import Agent\\n\\n# Define a very simple agent including the model to use, you can also set the model when running the agent.\\nagent = Agent(\\n    \\'google-gla:gemini-1.5-flash\\',\\n    # Register a static system prompt using a keyword argument to the agent.\\n    # For more complex dynamically-generated system prompts, see the example below.\\n    system_prompt=\\'Be concise, reply with one sentence.\\',\\n)\\n\\n# Run the agent synchronously, conducting a conversation with the LLM.\\n# Here the exchange should be very short: PydanticAI will send the system prompt and the user query to the LLM,\\n# the model will return a text response. See below for a more complex run.\\nresult = agent.run_sync(\\'Where does \"hello world\" come from?\\')\\nprint(result.output)\\n\"\"\"\\nThe first known use of \"hello, world\" was in a 1974 textbook about the C programming language.\\n\"\"\"\\n```\\n\\n_(This example is complete, it can be run \"as is\")_\\n\\nNot very interesting yet, but we can easily add \"tools\", dynamic system prompts, and structured responses to build more powerful agents.\\n\\n## Tools & Dependency Injection Example\\n\\nHere is a concise example using PydanticAI to build a support agent for a bank:\\n\\n**(Better documented example [in the docs](https://ai.pydantic.dev/#tools-dependency-injection-example))**\\n\\n```python\\nfrom dataclasses import dataclass\\n\\nfrom pydantic import BaseModel, Field\\nfrom pydantic_ai import Agent, RunContext\\n\\nfrom bank_database import DatabaseConn\\n\\n\\n# SupportDependencies is used to pass data, connections, and logic into the model that will be needed when running\\n# system prompt and tool functions. Dependency injection provides a type-safe way to customise the behavior of your agents.\\n@dataclass\\nclass SupportDependencies:\\n    customer_id: int\\n    db: DatabaseConn\\n\\n\\n# This pydantic model defines the structure of the output returned by the agent.\\nclass SupportOutput(BaseModel):\\n    support_advice: str = Field(description=\\'Advice returned to the customer\\')\\n    block_card: bool = Field(description=\"Whether to block the customer\\'s card\")\\n    risk: int = Field(description=\\'Risk level of query\\', ge=0, le=10)\\n\\n\\n# This agent will act as first-tier support in a bank.\\n# Agents are generic in the type of dependencies they accept and the type of output they return.\\n# In this case, the support agent has type `Agent[SupportDependencies, SupportOutput]`.\\nsupport_agent = Agent(\\n    \\'openai:gpt-4o\\',\\n    deps_type=SupportDependencies,\\n    # The response from the agent will, be guaranteed to be a SupportOutput,\\n    # if validation fails the agent is prompted to try again.\\n    output_type=SupportOutput,\\n    system_prompt=(\\n        \\'You are a support agent in our bank, give the \\'\\n        \\'customer support and judge the risk level of their query.\\'\\n    ),\\n)\\n\\n\\n# Dynamic system prompts can make use of dependency injection.\\n# Dependencies are carried via the `RunContext` argument, which is parameterized with the `deps_type` from above.\\n# If the type annotation here is wrong, static type checkers will catch it.\\n@support_agent.system_prompt\\nasync def add_customer_name(ctx: RunContext[SupportDependencies]) -> str:\\n    customer_name = await ctx.deps.db.customer_name(id=ctx.deps.customer_id)\\n    return f\"The customer\\'s name is {customer_name!r}\"\\n\\n\\n# `tool` let you register functions which the LLM may call while responding to a user.\\n# Again, dependencies are carried via `RunContext`, any other arguments become the tool schema passed to the LLM.\\n# Pydantic is used to validate these arguments, and errors are passed back to the LLM so it can retry.\\n@support_agent.tool\\nasync def customer_balance(\\n        ctx: RunContext[SupportDependencies], include_pending: bool\\n) -> float:\\n    \"\"\"Returns the customer\\'s current account balance.\"\"\"\\n    # The docstring of a tool is also passed to the LLM as the description of the tool.\\n    # Parameter descriptions are extracted from the docstring and added to the parameter schema sent to the LLM.\\n    balance = await ctx.deps.db.customer_balance(\\n        id=ctx.deps.customer_id,\\n        include_pending=include_pending,\\n    )\\n    return balance\\n\\n\\n...  # In a real use case, you\\'d add more tools and a longer system prompt\\n\\n\\nasync def main():\\n    deps = SupportDependencies(customer_id=123, db=DatabaseConn())\\n    # Run the agent asynchronously, conducting a conversation with the LLM until a final response is reached.\\n    # Even in this fairly simple case, the agent will exchange multiple messages with the LLM as tools are called to retrieve an output.\\n    result = await support_agent.run(\\'What is my balance?\\', deps=deps)\\n    # The `result.output` will be validated with Pydantic to guarantee it is a `SupportOutput`. Since the agent is generic,\\n    # it\\'ll also be typed as a `SupportOutput` to aid with static type checking.\\n    print(result.output)\\n    \"\"\"\\n    support_advice=\\'Hello John, your current account balance, including pending transactions, is $123.45.\\' block_card=False risk=1\\n    \"\"\"\\n\\n    result = await support_agent.run(\\'I just lost my card!\\', deps=deps)\\n    print(result.output)\\n    \"\"\"\\n    support_advice=\"I\\'m sorry to hear that, John. We are temporarily blocking your card to prevent unauthorized transactions.\" block_card=True risk=8\\n    \"\"\"\\n```\\n\\n## Next Steps\\n\\nTo try PydanticAI yourself, follow the instructions [in the examples](https://ai.pydantic.dev/examples/).\\n\\nRead the [docs](https://ai.pydantic.dev/agents/) to learn more about building applications with PydanticAI.\\n\\nRead the [API Reference](https://ai.pydantic.dev/api/agent/) to understand PydanticAI\\'s interface.\\n'}"
      ]
     },
     "execution_count": 78,
     "metadata": {},
     "output_type": "execute_result"
    }
   ],
   "source": [
    "\n",
    "import importlib.metadata\n",
    "\n",
    "def get_package_info(obj):\n",
    "    module = obj.__module__.split('.')[0]\n",
    "    try:\n",
    "        metadata = importlib.metadata.metadata(module)\n",
    "        return dict(metadata)\n",
    "    except Exception:\n",
    "        return None\n",
    "get_package_info(server)"
   ]
  },
  {
   "cell_type": "code",
   "execution_count": 64,
   "id": "677835b3",
   "metadata": {},
   "outputs": [
    {
     "data": {
      "text/plain": [
       "[ToolDefinition(name='list_projects', description='Lists all Supabase projects for the user.', parameters_json_schema={'type': 'object', 'properties': {}, 'additionalProperties': False, '$schema': 'http://json-schema.org/draft-07/schema#'}, outer_typed_dict_key=None, strict=None),\n",
       " ToolDefinition(name='get_project', description='Gets details for a Supabase project.', parameters_json_schema={'type': 'object', 'properties': {'id': {'type': 'string', 'description': 'The project ID'}}, 'required': ['id'], 'additionalProperties': False, '$schema': 'http://json-schema.org/draft-07/schema#'}, outer_typed_dict_key=None, strict=None),\n",
       " ToolDefinition(name='get_cost', description='Gets the cost of creating a new project or branch. Never assume organization as costs can be different for each.', parameters_json_schema={'type': 'object', 'properties': {'type': {'type': 'string', 'enum': ['project', 'branch']}, 'organization_id': {'type': 'string', 'description': 'The organization ID. Always ask the user.'}}, 'required': ['type', 'organization_id'], 'additionalProperties': False, '$schema': 'http://json-schema.org/draft-07/schema#'}, outer_typed_dict_key=None, strict=None),\n",
       " ToolDefinition(name='confirm_cost', description='Ask the user to confirm their understanding of the cost of creating a new project or branch. Call `get_cost` first. Returns a unique ID for this confirmation which should be passed to `create_project` or `create_branch`.', parameters_json_schema={'type': 'object', 'properties': {'type': {'type': 'string', 'enum': ['project', 'branch']}, 'recurrence': {'type': 'string', 'enum': ['hourly', 'monthly']}, 'amount': {'type': 'number'}}, 'required': ['type', 'recurrence', 'amount'], 'additionalProperties': False, '$schema': 'http://json-schema.org/draft-07/schema#'}, outer_typed_dict_key=None, strict=None),\n",
       " ToolDefinition(name='create_project', description='Creates a new Supabase project. Always ask the user which organization to create the project in. The project can take a few minutes to initialize - use `get_project` to check the status.', parameters_json_schema={'type': 'object', 'properties': {'name': {'type': 'string', 'description': 'The name of the project'}, 'region': {'type': 'string', 'enum': ['us-west-1', 'us-east-1', 'us-east-2', 'ca-central-1', 'eu-west-1', 'eu-west-2', 'eu-west-3', 'eu-central-1', 'eu-central-2', 'eu-north-1', 'ap-south-1', 'ap-southeast-1', 'ap-northeast-1', 'ap-northeast-2', 'ap-southeast-2', 'sa-east-1'], 'description': 'The region to create the project in. Defaults to the closest region.'}, 'organization_id': {'type': 'string'}, 'confirm_cost_id': {'type': 'string', 'description': 'The cost confirmation ID. Call `confirm_cost` first.'}}, 'required': ['name', 'organization_id', 'confirm_cost_id'], 'additionalProperties': False, '$schema': 'http://json-schema.org/draft-07/schema#'}, outer_typed_dict_key=None, strict=None),\n",
       " ToolDefinition(name='pause_project', description='Pauses a Supabase project.', parameters_json_schema={'type': 'object', 'properties': {'project_id': {'type': 'string'}}, 'required': ['project_id'], 'additionalProperties': False, '$schema': 'http://json-schema.org/draft-07/schema#'}, outer_typed_dict_key=None, strict=None),\n",
       " ToolDefinition(name='restore_project', description='Restores a Supabase project.', parameters_json_schema={'type': 'object', 'properties': {'project_id': {'type': 'string'}}, 'required': ['project_id'], 'additionalProperties': False, '$schema': 'http://json-schema.org/draft-07/schema#'}, outer_typed_dict_key=None, strict=None),\n",
       " ToolDefinition(name='list_organizations', description='Lists all organizations that the user is a member of.', parameters_json_schema={'type': 'object', 'properties': {}, 'additionalProperties': False, '$schema': 'http://json-schema.org/draft-07/schema#'}, outer_typed_dict_key=None, strict=None),\n",
       " ToolDefinition(name='get_organization', description='Gets details for an organization. Includes subscription plan.', parameters_json_schema={'type': 'object', 'properties': {'id': {'type': 'string', 'description': 'The organization ID'}}, 'required': ['id'], 'additionalProperties': False, '$schema': 'http://json-schema.org/draft-07/schema#'}, outer_typed_dict_key=None, strict=None),\n",
       " ToolDefinition(name='list_tables', description='Lists all tables in a schema.', parameters_json_schema={'type': 'object', 'properties': {'project_id': {'type': 'string'}, 'schemas': {'type': 'array', 'items': {'type': 'string'}, 'description': 'Optional list of schemas to include. Defaults to all schemas.'}}, 'required': ['project_id'], 'additionalProperties': False, '$schema': 'http://json-schema.org/draft-07/schema#'}, outer_typed_dict_key=None, strict=None),\n",
       " ToolDefinition(name='list_extensions', description='Lists all extensions in the database.', parameters_json_schema={'type': 'object', 'properties': {'project_id': {'type': 'string'}}, 'required': ['project_id'], 'additionalProperties': False, '$schema': 'http://json-schema.org/draft-07/schema#'}, outer_typed_dict_key=None, strict=None),\n",
       " ToolDefinition(name='list_migrations', description='Lists all migrations in the database.', parameters_json_schema={'type': 'object', 'properties': {'project_id': {'type': 'string'}}, 'required': ['project_id'], 'additionalProperties': False, '$schema': 'http://json-schema.org/draft-07/schema#'}, outer_typed_dict_key=None, strict=None),\n",
       " ToolDefinition(name='apply_migration', description='Applies a migration to the database. Use this when executing DDL operations.', parameters_json_schema={'type': 'object', 'properties': {'project_id': {'type': 'string'}, 'name': {'type': 'string', 'description': 'The name of the migration in snake_case'}, 'query': {'type': 'string', 'description': 'The SQL query to apply'}}, 'required': ['project_id', 'name', 'query'], 'additionalProperties': False, '$schema': 'http://json-schema.org/draft-07/schema#'}, outer_typed_dict_key=None, strict=None),\n",
       " ToolDefinition(name='execute_sql', description='Executes raw SQL in the Postgres database. Use `apply_migration` instead for DDL operations.', parameters_json_schema={'type': 'object', 'properties': {'project_id': {'type': 'string'}, 'query': {'type': 'string', 'description': 'The SQL query to execute'}}, 'required': ['project_id', 'query'], 'additionalProperties': False, '$schema': 'http://json-schema.org/draft-07/schema#'}, outer_typed_dict_key=None, strict=None),\n",
       " ToolDefinition(name='get_logs', description='Gets logs for a Supabase project by service type. Use this to help debug problems with your app. This will only return logs within the last minute. If the logs you are looking for are older than 1 minute, re-run your test to reproduce them.', parameters_json_schema={'type': 'object', 'properties': {'project_id': {'type': 'string'}, 'service': {'type': 'string', 'enum': ['api', 'branch-action', 'postgres', 'edge-function', 'auth', 'storage', 'realtime'], 'description': 'The service to fetch logs for'}}, 'required': ['project_id', 'service'], 'additionalProperties': False, '$schema': 'http://json-schema.org/draft-07/schema#'}, outer_typed_dict_key=None, strict=None),\n",
       " ToolDefinition(name='get_project_url', description='Gets the API URL for a project.', parameters_json_schema={'type': 'object', 'properties': {'project_id': {'type': 'string'}}, 'required': ['project_id'], 'additionalProperties': False, '$schema': 'http://json-schema.org/draft-07/schema#'}, outer_typed_dict_key=None, strict=None),\n",
       " ToolDefinition(name='get_anon_key', description='Gets the anonymous API key for a project.', parameters_json_schema={'type': 'object', 'properties': {'project_id': {'type': 'string'}}, 'required': ['project_id'], 'additionalProperties': False, '$schema': 'http://json-schema.org/draft-07/schema#'}, outer_typed_dict_key=None, strict=None),\n",
       " ToolDefinition(name='generate_typescript_types', description='Generates TypeScript types for a project.', parameters_json_schema={'type': 'object', 'properties': {'project_id': {'type': 'string'}}, 'required': ['project_id'], 'additionalProperties': False, '$schema': 'http://json-schema.org/draft-07/schema#'}, outer_typed_dict_key=None, strict=None),\n",
       " ToolDefinition(name='create_branch', description='Creates a development branch on a Supabase project. This will apply all migrations from the main project to a fresh branch database. Note that production data will not carry over. The branch will get its own project_id via the resulting project_ref. Use this ID to execute queries and migrations on the branch.', parameters_json_schema={'type': 'object', 'properties': {'project_id': {'type': 'string'}, 'name': {'type': 'string', 'default': 'develop', 'description': 'Name of the branch to create'}, 'confirm_cost_id': {'type': 'string', 'description': 'The cost confirmation ID. Call `confirm_cost` first.'}}, 'required': ['project_id', 'confirm_cost_id'], 'additionalProperties': False, '$schema': 'http://json-schema.org/draft-07/schema#'}, outer_typed_dict_key=None, strict=None),\n",
       " ToolDefinition(name='list_branches', description='Lists all development branches of a Supabase project. This will return branch details including status which you can use to check when operations like merge/rebase/reset complete.', parameters_json_schema={'type': 'object', 'properties': {'project_id': {'type': 'string'}}, 'required': ['project_id'], 'additionalProperties': False, '$schema': 'http://json-schema.org/draft-07/schema#'}, outer_typed_dict_key=None, strict=None),\n",
       " ToolDefinition(name='delete_branch', description='Deletes a development branch.', parameters_json_schema={'type': 'object', 'properties': {'branch_id': {'type': 'string'}}, 'required': ['branch_id'], 'additionalProperties': False, '$schema': 'http://json-schema.org/draft-07/schema#'}, outer_typed_dict_key=None, strict=None),\n",
       " ToolDefinition(name='merge_branch', description='Merges migrations and edge functions from a development branch to production.', parameters_json_schema={'type': 'object', 'properties': {'branch_id': {'type': 'string'}}, 'required': ['branch_id'], 'additionalProperties': False, '$schema': 'http://json-schema.org/draft-07/schema#'}, outer_typed_dict_key=None, strict=None),\n",
       " ToolDefinition(name='reset_branch', description='Resets migrations of a development branch. Any untracked data or schema changes will be lost.', parameters_json_schema={'type': 'object', 'properties': {'branch_id': {'type': 'string'}, 'migration_version': {'type': 'string', 'description': 'Reset your development branch to a specific migration version.'}}, 'required': ['branch_id'], 'additionalProperties': False, '$schema': 'http://json-schema.org/draft-07/schema#'}, outer_typed_dict_key=None, strict=None),\n",
       " ToolDefinition(name='rebase_branch', description='Rebases a development branch on production. This will effectively run any newer migrations from production onto this branch to help handle migration drift.', parameters_json_schema={'type': 'object', 'properties': {'branch_id': {'type': 'string'}}, 'required': ['branch_id'], 'additionalProperties': False, '$schema': 'http://json-schema.org/draft-07/schema#'}, outer_typed_dict_key=None, strict=None)]"
      ]
     },
     "execution_count": 64,
     "metadata": {},
     "output_type": "execute_result"
    }
   ],
   "source": [
    "await server.list_tools()"
   ]
  },
  {
   "cell_type": "code",
   "execution_count": 60,
   "id": "16b52e12",
   "metadata": {},
   "outputs": [
    {
     "ename": "SyntaxError",
     "evalue": "expected ':' (55097386.py, line 1)",
     "output_type": "error",
     "traceback": [
      "  \u001b[36mCell\u001b[39m\u001b[36m \u001b[39m\u001b[32mIn[60]\u001b[39m\u001b[32m, line 1\u001b[39m\n\u001b[31m    \u001b[39m\u001b[31mwith await server.list_tools()\u001b[39m\n                                  ^\n\u001b[31mSyntaxError\u001b[39m\u001b[31m:\u001b[39m expected ':'\n"
     ]
    }
   ],
   "source": [
    "with await server.list_tools()\n",
    "    print(\"Server: \", server.is_running)\n",
    "    print(\"Server: \", server.to_dict())\n",
    "    print(\"Server connected: \", server.is_connected)\n",
    "    print(\"Server connected: \", server.is_running)\n",
    "    print(\"Server connected: \", server.is_connected)\n",
    "    print(\"Server connected: \", server.is_running)"
   ]
  },
  {
   "cell_type": "code",
   "execution_count": 10,
   "id": "43fa82b5",
   "metadata": {},
   "outputs": [],
   "source": [
    "from livekit.agents import (\n",
    "    Agent,\n",
    "    AgentSession,\n",
    "    JobContext,\n",
    "    RunContext,\n",
    "    WorkerOptions,\n",
    "    cli,\n",
    "    function_tool,\n",
    ")\n",
    "@function_tool\n",
    "async def lookup_weather(\n",
    "    context: RunContext,\n",
    "    location: str,\n",
    "):\n",
    "    \"\"\"Used to look up weather information.\"\"\"\n",
    "\n",
    "    return {\"weather\": \"sunny\", \"temperature\": 70}\n"
   ]
  },
  {
   "cell_type": "code",
   "execution_count": 27,
   "id": "d11925fd",
   "metadata": {},
   "outputs": [],
   "source": [
    "from __future__ import annotations\n",
    "\n",
    "import json\n",
    "import os\n",
    "from typing import List, Callable\n",
    "\n",
    "from dotenv import load_dotenv\n",
    "from livekit.agents import (\n",
    "    Agent,\n",
    "    AgentSession,\n",
    "    JobContext,\n",
    "    RunContext,\n",
    "    WorkerOptions,\n",
    "    cli,\n",
    "    function_tool,\n",
    "    FunctionTool\n",
    ")\n",
    "from livekit.plugins import assemblyai, openai, silero\n",
    "from pydantic_ai import Agent as PydanticAgent\n",
    "from pydantic_ai.mcp import MCPServerStdio\n",
    "\n",
    "load_dotenv()\n",
    "\n",
    "from typing import List, Callable, Any  # add Any\n",
    "def _py_type(s: dict) -> str:\n",
    "    t = s.get(\"type\")\n",
    "    if t == \"string\":\n",
    "        return \"str\"\n",
    "    if t in (\"number\", \"integer\"):\n",
    "        return \"float\" if t == \"number\" else \"int\"\n",
    "    if t == \"boolean\":\n",
    "        return \"bool\"\n",
    "    if t == \"array\":\n",
    "        return f\"List[{_py_type(s.get('items', {}))}]\"\n",
    "    if t == \"object\":\n",
    "        return \"dict\"\n",
    "    return \"Any\"\n",
    "\n",
    "\n",
    "# --------------------------------------------------------------------------- #\n",
    "# Helper: convert every MCP ToolDefinition into a LiveKit function_tool\n",
    "# --------------------------------------------------------------------------- #\n",
    "async def build_livekit_tools(server) -> List[Callable]:\n",
    "    tools: List[Callable] = []\n",
    "\n",
    "    for td in await server.list_tools():\n",
    "        props = td.parameters_json_schema.get(\"properties\", {})\n",
    "        required = set(td.parameters_json_schema.get(\"required\", []))\n",
    "\n",
    "        # build google‑style docstring\n",
    "        doc = [td.description or \"\"]\n",
    "        if props:\n",
    "            doc.append(\"\\nArgs:\")\n",
    "            for name, schema in props.items():\n",
    "                typ = _py_type(schema)\n",
    "                req = \"required\" if name in required else \"optional\"\n",
    "                desc = schema.get(\"description\", \"\")\n",
    "                doc.append(f\"    {name} ({typ}, {req}): {desc}\")\n",
    "        full_doc = \"\\n\".join(doc).rstrip()\n",
    "\n",
    "        async def _proxy(context: RunContext, _td=td, **kwargs):\n",
    "            result = await server.call_tool(_td.name, arguments=kwargs or None)\n",
    "            text = result.content[0].text\n",
    "            try:\n",
    "                return json.loads(text)\n",
    "            except Exception:\n",
    "                return text\n",
    "\n",
    "        _proxy.__name__ = td.name\n",
    "        _proxy.__doc__ = full_doc\n",
    "        tools.append(function_tool(_proxy))\n",
    "\n",
    "    return tools"
   ]
  },
  {
   "cell_type": "code",
   "execution_count": 46,
   "id": "c5580c29",
   "metadata": {},
   "outputs": [
    {
     "name": "stdout",
     "output_type": "stream",
     "text": [
      "15\n"
     ]
    },
    {
     "data": {
      "text/plain": [
       "{}"
      ]
     },
     "execution_count": 46,
     "metadata": {},
     "output_type": "execute_result"
    }
   ],
   "source": [
    "import types\n",
    "\n",
    "def template(y: int):\n",
    "    return x + y  # x is not defined yet\n",
    "\n",
    "# Create new function with globals that define x\n",
    "new_func = types.FunctionType(template.__code__, {'x': 10})\n",
    "print(new_func(5))  # Output: 15\n",
    "\n",
    "new_func.__annotations__"
   ]
  },
  {
   "cell_type": "code",
   "execution_count": 50,
   "id": "59704709",
   "metadata": {},
   "outputs": [
    {
     "ename": "TypeError",
     "evalue": "build_livekit_tools.<locals>._proxy() missing 1 required positional argument: 'context'",
     "output_type": "error",
     "traceback": [
      "\u001b[31m---------------------------------------------------------------------------\u001b[39m",
      "\u001b[31mTypeError\u001b[39m                                 Traceback (most recent call last)",
      "\u001b[36mCell\u001b[39m\u001b[36m \u001b[39m\u001b[32mIn[50]\u001b[39m\u001b[32m, line 3\u001b[39m\n\u001b[32m      1\u001b[39m first_tool = tools[\u001b[32m0\u001b[39m]\n\u001b[32m----> \u001b[39m\u001b[32m3\u001b[39m \u001b[43mfirst_tool\u001b[49m\u001b[43m(\u001b[49m\u001b[43m)\u001b[49m\n",
      "\u001b[31mTypeError\u001b[39m: build_livekit_tools.<locals>._proxy() missing 1 required positional argument: 'context'"
     ]
    }
   ],
   "source": [
    "first_tool = tools[0]\n",
    "\n",
    "first_tool()"
   ]
  },
  {
   "cell_type": "code",
   "execution_count": 7,
   "id": "5e377414-58c4-452d-aa94-425276e3b1d1",
   "metadata": {
    "scrolled": true
   },
   "outputs": [
    {
     "name": "stdout",
     "output_type": "stream",
     "text": [
      "<function build_livekit_tools.<locals>._proxy at 0x11aee1da0>\n",
      "<function build_livekit_tools.<locals>._proxy at 0x11aee2660>\n",
      "<function build_livekit_tools.<locals>._proxy at 0x11aee2700>\n",
      "<function build_livekit_tools.<locals>._proxy at 0x11aee27a0>\n",
      "<function build_livekit_tools.<locals>._proxy at 0x11aee2840>\n",
      "<function build_livekit_tools.<locals>._proxy at 0x11aee2a20>\n",
      "<function build_livekit_tools.<locals>._proxy at 0x11aee2ac0>\n",
      "<function build_livekit_tools.<locals>._proxy at 0x11aee2d40>\n",
      "<function build_livekit_tools.<locals>._proxy at 0x11aee2b60>\n",
      "<function build_livekit_tools.<locals>._proxy at 0x11aee2e80>\n",
      "<function build_livekit_tools.<locals>._proxy at 0x11aee2de0>\n",
      "<function build_livekit_tools.<locals>._proxy at 0x11aee2f20>\n",
      "<function build_livekit_tools.<locals>._proxy at 0x11aee2fc0>\n",
      "<function build_livekit_tools.<locals>._proxy at 0x11aee3060>\n",
      "<function build_livekit_tools.<locals>._proxy at 0x11aee3100>\n",
      "<function build_livekit_tools.<locals>._proxy at 0x11aee31a0>\n",
      "<function build_livekit_tools.<locals>._proxy at 0x11aee3420>\n",
      "<function build_livekit_tools.<locals>._proxy at 0x11aee32e0>\n",
      "<function build_livekit_tools.<locals>._proxy at 0x11aee3380>\n",
      "<function build_livekit_tools.<locals>._proxy at 0x11aee3240>\n",
      "<function build_livekit_tools.<locals>._proxy at 0x11aee34c0>\n",
      "<function build_livekit_tools.<locals>._proxy at 0x11aee3560>\n",
      "<function build_livekit_tools.<locals>._proxy at 0x11aee36a0>\n",
      "<function build_livekit_tools.<locals>._proxy at 0x11aee3600>\n"
     ]
    }
   ],
   "source": [
    "async def main():\n",
    "    async with agent.run_mcp_servers():\n",
    "        livekit_tools = await build_livekit_tools(server)\n",
    "        for tool in livekit_tools:\n",
    "            print(tool)\n",
    "\n",
    "        return livekit_tools, None\n",
    "        tools = await server.list_tools()\n",
    "\n",
    "        result = await server.call_tool(\"list_projects\", arguments = None)\n",
    "        print(result)\n",
    "        return tools, result\n",
    "\n",
    "tools, result= await main()"
   ]
  },
  {
   "cell_type": "code",
   "execution_count": 32,
   "id": "d6f02bbb",
   "metadata": {},
   "outputs": [
    {
     "ename": "AttributeError",
     "evalue": "type object 'FunctionTool' has no attribute 'from_function_tool'",
     "output_type": "error",
     "traceback": [
      "\u001b[31m---------------------------------------------------------------------------\u001b[39m",
      "\u001b[31mAttributeError\u001b[39m                            Traceback (most recent call last)",
      "\u001b[36mCell\u001b[39m\u001b[36m \u001b[39m\u001b[32mIn[32]\u001b[39m\u001b[32m, line 1\u001b[39m\n\u001b[32m----> \u001b[39m\u001b[32m1\u001b[39m \u001b[43mFunctionTool\u001b[49m\u001b[43m.\u001b[49m\u001b[43mfrom_function_tool\u001b[49m(tools[\u001b[32m0\u001b[39m])\n",
      "\u001b[31mAttributeError\u001b[39m: type object 'FunctionTool' has no attribute 'from_function_tool'"
     ]
    }
   ],
   "source": []
  },
  {
   "cell_type": "code",
   "execution_count": 16,
   "id": "c9f917a5",
   "metadata": {},
   "outputs": [
    {
     "name": "stdout",
     "output_type": "stream",
     "text": [
      "list_projects\n",
      "Lists all Supabase projects for the user.\n",
      "{'context': 'RunContext'}\n",
      "====================================================================================================\n",
      "get_project\n",
      "Gets details for a Supabase project.\n",
      "\n",
      "Args:\n",
      "    id (str, required): The project ID\n",
      "{'context': 'RunContext'}\n",
      "====================================================================================================\n",
      "get_cost\n",
      "Gets the cost of creating a new project or branch. Never assume organization as costs can be different for each.\n",
      "\n",
      "Args:\n",
      "    type (str, required): \n",
      "    organization_id (str, required): The organization ID. Always ask the user.\n",
      "{'context': 'RunContext'}\n",
      "====================================================================================================\n",
      "confirm_cost\n",
      "Ask the user to confirm their understanding of the cost of creating a new project or branch. Call `get_cost` first. Returns a unique ID for this confirmation which should be passed to `create_project` or `create_branch`.\n",
      "\n",
      "Args:\n",
      "    type (str, required): \n",
      "    recurrence (str, required): \n",
      "    amount (float, required):\n",
      "{'context': 'RunContext'}\n",
      "====================================================================================================\n",
      "create_project\n",
      "Creates a new Supabase project. Always ask the user which organization to create the project in. The project can take a few minutes to initialize - use `get_project` to check the status.\n",
      "\n",
      "Args:\n",
      "    name (str, required): The name of the project\n",
      "    region (str, optional): The region to create the project in. Defaults to the closest region.\n",
      "    organization_id (str, required): \n",
      "    confirm_cost_id (str, required): The cost confirmation ID. Call `confirm_cost` first.\n",
      "{'context': 'RunContext'}\n",
      "====================================================================================================\n",
      "pause_project\n",
      "Pauses a Supabase project.\n",
      "\n",
      "Args:\n",
      "    project_id (str, required):\n",
      "{'context': 'RunContext'}\n",
      "====================================================================================================\n",
      "restore_project\n",
      "Restores a Supabase project.\n",
      "\n",
      "Args:\n",
      "    project_id (str, required):\n",
      "{'context': 'RunContext'}\n",
      "====================================================================================================\n",
      "list_organizations\n",
      "Lists all organizations that the user is a member of.\n",
      "{'context': 'RunContext'}\n",
      "====================================================================================================\n",
      "get_organization\n",
      "Gets details for an organization. Includes subscription plan.\n",
      "\n",
      "Args:\n",
      "    id (str, required): The organization ID\n",
      "{'context': 'RunContext'}\n",
      "====================================================================================================\n",
      "list_tables\n",
      "Lists all tables in a schema.\n",
      "\n",
      "Args:\n",
      "    project_id (str, required): \n",
      "    schemas (List[str], optional): Optional list of schemas to include. Defaults to all schemas.\n",
      "{'context': 'RunContext'}\n",
      "====================================================================================================\n",
      "list_extensions\n",
      "Lists all extensions in the database.\n",
      "\n",
      "Args:\n",
      "    project_id (str, required):\n",
      "{'context': 'RunContext'}\n",
      "====================================================================================================\n",
      "list_migrations\n",
      "Lists all migrations in the database.\n",
      "\n",
      "Args:\n",
      "    project_id (str, required):\n",
      "{'context': 'RunContext'}\n",
      "====================================================================================================\n",
      "apply_migration\n",
      "Applies a migration to the database. Use this when executing DDL operations.\n",
      "\n",
      "Args:\n",
      "    project_id (str, required): \n",
      "    name (str, required): The name of the migration in snake_case\n",
      "    query (str, required): The SQL query to apply\n",
      "{'context': 'RunContext'}\n",
      "====================================================================================================\n",
      "execute_sql\n",
      "Executes raw SQL in the Postgres database. Use `apply_migration` instead for DDL operations.\n",
      "\n",
      "Args:\n",
      "    project_id (str, required): \n",
      "    query (str, required): The SQL query to execute\n",
      "{'context': 'RunContext'}\n",
      "====================================================================================================\n",
      "get_logs\n",
      "Gets logs for a Supabase project by service type. Use this to help debug problems with your app. This will only return logs within the last minute. If the logs you are looking for are older than 1 minute, re-run your test to reproduce them.\n",
      "\n",
      "Args:\n",
      "    project_id (str, required): \n",
      "    service (str, required): The service to fetch logs for\n",
      "{'context': 'RunContext'}\n",
      "====================================================================================================\n",
      "get_project_url\n",
      "Gets the API URL for a project.\n",
      "\n",
      "Args:\n",
      "    project_id (str, required):\n",
      "{'context': 'RunContext'}\n",
      "====================================================================================================\n",
      "get_anon_key\n",
      "Gets the anonymous API key for a project.\n",
      "\n",
      "Args:\n",
      "    project_id (str, required):\n",
      "{'context': 'RunContext'}\n",
      "====================================================================================================\n",
      "generate_typescript_types\n",
      "Generates TypeScript types for a project.\n",
      "\n",
      "Args:\n",
      "    project_id (str, required):\n",
      "{'context': 'RunContext'}\n",
      "====================================================================================================\n",
      "create_branch\n",
      "Creates a development branch on a Supabase project. This will apply all migrations from the main project to a fresh branch database. Note that production data will not carry over. The branch will get its own project_id via the resulting project_ref. Use this ID to execute queries and migrations on the branch.\n",
      "\n",
      "Args:\n",
      "    project_id (str, required): \n",
      "    name (str, optional): Name of the branch to create\n",
      "    confirm_cost_id (str, required): The cost confirmation ID. Call `confirm_cost` first.\n",
      "{'context': 'RunContext'}\n",
      "====================================================================================================\n",
      "list_branches\n",
      "Lists all development branches of a Supabase project. This will return branch details including status which you can use to check when operations like merge/rebase/reset complete.\n",
      "\n",
      "Args:\n",
      "    project_id (str, required):\n",
      "{'context': 'RunContext'}\n",
      "====================================================================================================\n",
      "delete_branch\n",
      "Deletes a development branch.\n",
      "\n",
      "Args:\n",
      "    branch_id (str, required):\n",
      "{'context': 'RunContext'}\n",
      "====================================================================================================\n",
      "merge_branch\n",
      "Merges migrations and edge functions from a development branch to production.\n",
      "\n",
      "Args:\n",
      "    branch_id (str, required):\n",
      "{'context': 'RunContext'}\n",
      "====================================================================================================\n",
      "reset_branch\n",
      "Resets migrations of a development branch. Any untracked data or schema changes will be lost.\n",
      "\n",
      "Args:\n",
      "    branch_id (str, required): \n",
      "    migration_version (str, optional): Reset your development branch to a specific migration version.\n",
      "{'context': 'RunContext'}\n",
      "====================================================================================================\n",
      "rebase_branch\n",
      "Rebases a development branch on production. This will effectively run any newer migrations from production onto this branch to help handle migration drift.\n",
      "\n",
      "Args:\n",
      "    branch_id (str, required):\n",
      "{'context': 'RunContext'}\n",
      "====================================================================================================\n"
     ]
    }
   ],
   "source": [
    "for tool in tools:\n",
    "    print(tool.__name__)\n",
    "    print(tool.__doc__)\n",
    "    print(tool.__annotations__)\n",
    "    print(\"=\"*100)"
   ]
  },
  {
   "cell_type": "code",
   "execution_count": 33,
   "id": "bc2ae7d6",
   "metadata": {},
   "outputs": [],
   "source": [
    "def livekit_tool_from_function_tool(pydantic_tool, server):\n",
    "\n",
    "    async def tool_fn(**kwargs):\n",
    "        return await server.call_tool(pydantic_tool.name, kwargs)\n",
    "    \n",
    "    tool_fn.__name__ = pydantic_tool.name\n",
    "    tool_fn.__doc__ = pydantic_tool.description or \"\"\n",
    "    tool_fn.__annotations__ = pydantic_tool.parameters_json_schema.__annotations__\n",
    "\n",
    "    return function_tool(f= tool_fn, name=pydantic_tool.name, description=pydantic_tool.description)\n",
    "    "
   ]
  },
  {
   "cell_type": "code",
   "execution_count": 77,
   "id": "2dac86c6",
   "metadata": {},
   "outputs": [
    {
     "name": "stdout",
     "output_type": "stream",
     "text": [
      "Lists all tables in a schema.\n",
      "{'type': 'object', 'properties': {'project_id': {'type': 'string'}, 'schemas': {'type': 'array', 'items': {'type': 'string'}, 'description': 'Optional list of schemas to include. Defaults to all schemas.'}}, 'required': ['project_id'], 'additionalProperties': False, '$schema': 'http://json-schema.org/draft-07/schema#'}\n",
      "\"\"\"Lists all tables in a schema.\n",
      "\n",
      "Args:\n",
      "    project_id (string - required): \n",
      "    schemas (array of string): Optional list of schemas to include. Defaults to all schemas.\n",
      "\"\"\"\n"
     ]
    }
   ],
   "source": [
    "tools[3].parameters_json_schema\n",
    "\n",
    "def schema_to_docstring(schema: dict, description: str, indent: int = 4) -> str:\n",
    "    def render_property(name: str, prop: dict, is_required: bool, current_indent: int) -> str:\n",
    "        space = \" \" * current_indent\n",
    "        type_ = prop.get(\"type\", \"any\")\n",
    "        req = \" - required\" if is_required else \"\"\n",
    "        field_desc = prop.get(\"description\", \"\").strip()\n",
    "        \n",
    "        # If the property is an object with nested properties, render them recursively.\n",
    "        if type_ == \"object\" and \"properties\" in prop:\n",
    "            nested_required = set(prop.get(\"required\", []))\n",
    "            sub_fields = []\n",
    "            for sub_name, sub_prop in prop[\"properties\"].items():\n",
    "                sub_line = render_property(sub_name,\n",
    "                                           sub_prop,\n",
    "                                           sub_name in nested_required,\n",
    "                                           current_indent + indent)\n",
    "                sub_fields.append(sub_line)\n",
    "            nested_doc = \"\\n\".join(sub_fields)\n",
    "            return f\"{space}{name} (object{req}): {field_desc}\\n{nested_doc}\"\n",
    "        # If the property is an array, check if items is an object to possibly render nested fields.\n",
    "        elif type_ == \"array\":\n",
    "            items = prop.get(\"items\", {})\n",
    "            # If the items are objects with properties, render a summary of the subfields.\n",
    "            if items.get(\"type\") == \"object\" and \"properties\" in items:\n",
    "                nested_required = set(items.get(\"required\", []))\n",
    "                sub_fields = []\n",
    "                for sub_name, sub_prop in items[\"properties\"].items():\n",
    "                    sub_line = render_property(sub_name,\n",
    "                                               sub_prop,\n",
    "                                               sub_name in nested_required,\n",
    "                                               current_indent + indent)\n",
    "                    sub_fields.append(sub_line)\n",
    "                nested_doc = \"\\n\".join(sub_fields)\n",
    "                type_str = f\"array of objects\"\n",
    "                return f\"{space}{name} ({type_str}{req}): {field_desc}\\n{nested_doc}\"\n",
    "            else:\n",
    "                # For simple arrays, describe the type of items if possible.\n",
    "                item_type = items.get(\"type\", \"any\")\n",
    "                type_str = f\"array of {item_type}\"\n",
    "                return f\"{space}{name} ({type_str}{req}): {field_desc}\"\n",
    "        else:\n",
    "            # Base case: primitive types.\n",
    "            return f\"{space}{name} ({type_}{req}): {field_desc}\"\n",
    "    \n",
    "    # Process the top-level properties.\n",
    "    properties = schema.get(\"properties\", {})\n",
    "    required_fields = set(schema.get(\"required\", []))\n",
    "    args_lines = []\n",
    "    for prop_name, prop in properties.items():\n",
    "        line = render_property(prop_name, prop, prop_name in required_fields, indent)\n",
    "        args_lines.append(line)\n",
    "\n",
    "    args_doc = \"\\n\".join(args_lines)\n",
    "    return f'\"\"\"{description}\\n\\nArgs:\\n{args_doc}\\n\"\"\"'\n",
    "i = 9\n",
    "print(tools[i].description)\n",
    "print(tools[i].parameters_json_schema)\n",
    "t = schema_to_docstring(tools[i].parameters_json_schema, tools[i].description)\n",
    "print(t)"
   ]
  },
  {
   "cell_type": "code",
   "execution_count": 61,
   "id": "35e8e874",
   "metadata": {},
   "outputs": [
    {
     "data": {
      "text/plain": [
       "{'type': 'object',\n",
       " 'properties': {'project_id': {'type': 'string'}},\n",
       " 'required': ['project_id'],\n",
       " 'additionalProperties': False,\n",
       " '$schema': 'http://json-schema.org/draft-07/schema#'}"
      ]
     },
     "execution_count": 61,
     "metadata": {},
     "output_type": "execute_result"
    }
   ],
   "source": [
    "tools[10].parameters_json_schema"
   ]
  },
  {
   "cell_type": "code",
   "execution_count": 34,
   "id": "4920f63a",
   "metadata": {},
   "outputs": [
    {
     "ename": "AttributeError",
     "evalue": "'dict' object has no attribute '__annotations__'",
     "output_type": "error",
     "traceback": [
      "\u001b[31m---------------------------------------------------------------------------\u001b[39m",
      "\u001b[31mAttributeError\u001b[39m                            Traceback (most recent call last)",
      "\u001b[36mCell\u001b[39m\u001b[36m \u001b[39m\u001b[32mIn[34]\u001b[39m\u001b[32m, line 1\u001b[39m\n\u001b[32m----> \u001b[39m\u001b[32m1\u001b[39m \u001b[43mlivekit_tool_from_function_tool\u001b[49m\u001b[43m(\u001b[49m\u001b[43mtools\u001b[49m\u001b[43m[\u001b[49m\u001b[32;43m1\u001b[39;49m\u001b[43m]\u001b[49m\u001b[43m,\u001b[49m\u001b[43m \u001b[49m\u001b[43mserver\u001b[49m\u001b[43m)\u001b[49m\n",
      "\u001b[36mCell\u001b[39m\u001b[36m \u001b[39m\u001b[32mIn[33]\u001b[39m\u001b[32m, line 8\u001b[39m, in \u001b[36mlivekit_tool_from_function_tool\u001b[39m\u001b[34m(pydantic_tool, server)\u001b[39m\n\u001b[32m      6\u001b[39m tool_fn.\u001b[34m__name__\u001b[39m = pydantic_tool.name\n\u001b[32m      7\u001b[39m tool_fn.\u001b[34m__doc__\u001b[39m = pydantic_tool.description \u001b[38;5;129;01mor\u001b[39;00m \u001b[33m\"\u001b[39m\u001b[33m\"\u001b[39m\n\u001b[32m----> \u001b[39m\u001b[32m8\u001b[39m tool_fn.\u001b[34m__annotations__\u001b[39m = \u001b[43mpydantic_tool\u001b[49m\u001b[43m.\u001b[49m\u001b[43mparameters_json_schema\u001b[49m\u001b[43m.\u001b[49m\u001b[34;43m__annotations__\u001b[39;49m\n\u001b[32m     10\u001b[39m \u001b[38;5;28;01mreturn\u001b[39;00m function_tool(f= tool_fn, name=pydantic_tool.name, description=pydantic_tool.description)\n",
      "\u001b[31mAttributeError\u001b[39m: 'dict' object has no attribute '__annotations__'"
     ]
    }
   ],
   "source": [
    "livekit_tool_from_function_tool(tools[1], server)"
   ]
  },
  {
   "cell_type": "code",
   "execution_count": 28,
   "id": "ebe67299",
   "metadata": {},
   "outputs": [],
   "source": [
    "from livekit.agents import (\n",
    "    Agent,\n",
    "    function_tool,\n",
    "    FunctionTool,\n",
    ")\n",
    "function_tool()"
   ]
  },
  {
   "cell_type": "code",
   "execution_count": 20,
   "id": "41389db8",
   "metadata": {},
   "outputs": [],
   "source": [
    "tool_definition = tools[1]"
   ]
  },
  {
   "cell_type": "code",
   "execution_count": 25,
   "id": "2235cb88",
   "metadata": {},
   "outputs": [
    {
     "data": {
      "text/plain": [
       "'get_project'"
      ]
     },
     "execution_count": 25,
     "metadata": {},
     "output_type": "execute_result"
    }
   ],
   "source": [
    "tool_definition.name"
   ]
  },
  {
   "cell_type": "code",
   "execution_count": 26,
   "id": "fe3ba164",
   "metadata": {},
   "outputs": [
    {
     "data": {
      "text/plain": [
       "'Gets details for a Supabase project.'"
      ]
     },
     "execution_count": 26,
     "metadata": {},
     "output_type": "execute_result"
    }
   ],
   "source": [
    "tool_definition.description"
   ]
  },
  {
   "cell_type": "code",
   "execution_count": 24,
   "id": "65062130",
   "metadata": {},
   "outputs": [
    {
     "data": {
      "text/plain": [
       "{'type': 'object',\n",
       " 'properties': {'id': {'type': 'string', 'description': 'The project ID'}},\n",
       " 'required': ['id'],\n",
       " 'additionalProperties': False,\n",
       " '$schema': 'http://json-schema.org/draft-07/schema#'}"
      ]
     },
     "execution_count": 24,
     "metadata": {},
     "output_type": "execute_result"
    }
   ],
   "source": [
    "tool_definition.parameters_json_schema"
   ]
  },
  {
   "cell_type": "code",
   "execution_count": null,
   "id": "4114f790",
   "metadata": {},
   "outputs": [
    {
     "ename": "TypeError",
     "evalue": "function_tool() got an unexpected keyword argument 'parameters_json_schema'",
     "output_type": "error",
     "traceback": [
      "\u001b[31m---------------------------------------------------------------------------\u001b[39m",
      "\u001b[31mTypeError\u001b[39m                                 Traceback (most recent call last)",
      "\u001b[36mCell\u001b[39m\u001b[36m \u001b[39m\u001b[32mIn[23]\u001b[39m\u001b[32m, line 1\u001b[39m\n\u001b[32m----> \u001b[39m\u001b[32m1\u001b[39m \u001b[43mfunction_tool\u001b[49m\u001b[43m(\u001b[49m\u001b[43mname\u001b[49m\u001b[43m=\u001b[49m\u001b[43mtool_definition\u001b[49m\u001b[43m.\u001b[49m\u001b[43mname\u001b[49m\u001b[43m,\u001b[49m\u001b[43m \u001b[49m\u001b[43mdescription\u001b[49m\u001b[43m=\u001b[49m\u001b[43mtool_definition\u001b[49m\u001b[43m.\u001b[49m\u001b[43mdescription\u001b[49m\u001b[43m,\u001b[49m\u001b[43m \u001b[49m\u001b[43mparameters_json_schema\u001b[49m\u001b[43m=\u001b[49m\u001b[43mtool_definition\u001b[49m\u001b[43m.\u001b[49m\u001b[43mparameters_json_schema\u001b[49m\u001b[43m)\u001b[49m\n",
      "\u001b[31mTypeError\u001b[39m: function_tool() got an unexpected keyword argument 'parameters_json_schema'"
     ]
    }
   ],
   "source": [
    "function_tool(name=tool_definition.name,\n",
    "             description=tool_definition.description, parameters_json_schema=tool_definition.parameters_json_schema)\n"
   ]
  },
  {
   "cell_type": "code",
   "execution_count": 21,
   "id": "e2c278cf",
   "metadata": {},
   "outputs": [
    {
     "data": {
      "text/plain": [
       "{'type': 'object',\n",
       " 'properties': {'id': {'type': 'string', 'description': 'The project ID'}},\n",
       " 'required': ['id'],\n",
       " 'additionalProperties': False,\n",
       " '$schema': 'http://json-schema.org/draft-07/schema#'}"
      ]
     },
     "execution_count": 21,
     "metadata": {},
     "output_type": "execute_result"
    }
   ],
   "source": [
    "tool_definition.parameters_json_schema"
   ]
  },
  {
   "cell_type": "code",
   "execution_count": 6,
   "id": "ed0c1ba6-466d-4e2b-80d2-74625ff1286f",
   "metadata": {},
   "outputs": [
    {
     "data": {
      "text/plain": [
       "[ToolDefinition(name='list_projects', description='Lists all Supabase projects for the user.', parameters_json_schema={'type': 'object', 'properties': {}, 'additionalProperties': False, '$schema': 'http://json-schema.org/draft-07/schema#'}, outer_typed_dict_key=None, strict=None),\n",
       " ToolDefinition(name='get_project', description='Gets details for a Supabase project.', parameters_json_schema={'type': 'object', 'properties': {'id': {'type': 'string', 'description': 'The project ID'}}, 'required': ['id'], 'additionalProperties': False, '$schema': 'http://json-schema.org/draft-07/schema#'}, outer_typed_dict_key=None, strict=None),\n",
       " ToolDefinition(name='get_cost', description='Gets the cost of creating a new project or branch. Never assume organization as costs can be different for each.', parameters_json_schema={'type': 'object', 'properties': {'type': {'type': 'string', 'enum': ['project', 'branch']}, 'organization_id': {'type': 'string', 'description': 'The organization ID. Always ask the user.'}}, 'required': ['type', 'organization_id'], 'additionalProperties': False, '$schema': 'http://json-schema.org/draft-07/schema#'}, outer_typed_dict_key=None, strict=None),\n",
       " ToolDefinition(name='confirm_cost', description='Ask the user to confirm their understanding of the cost of creating a new project or branch. Call `get_cost` first. Returns a unique ID for this confirmation which should be passed to `create_project` or `create_branch`.', parameters_json_schema={'type': 'object', 'properties': {'type': {'type': 'string', 'enum': ['project', 'branch']}, 'recurrence': {'type': 'string', 'enum': ['hourly', 'monthly']}, 'amount': {'type': 'number'}}, 'required': ['type', 'recurrence', 'amount'], 'additionalProperties': False, '$schema': 'http://json-schema.org/draft-07/schema#'}, outer_typed_dict_key=None, strict=None),\n",
       " ToolDefinition(name='create_project', description='Creates a new Supabase project. Always ask the user which organization to create the project in. The project can take a few minutes to initialize - use `get_project` to check the status.', parameters_json_schema={'type': 'object', 'properties': {'name': {'type': 'string', 'description': 'The name of the project'}, 'region': {'type': 'string', 'enum': ['us-west-1', 'us-east-1', 'us-east-2', 'ca-central-1', 'eu-west-1', 'eu-west-2', 'eu-west-3', 'eu-central-1', 'eu-central-2', 'eu-north-1', 'ap-south-1', 'ap-southeast-1', 'ap-northeast-1', 'ap-northeast-2', 'ap-southeast-2', 'sa-east-1'], 'description': 'The region to create the project in. Defaults to the closest region.'}, 'organization_id': {'type': 'string'}, 'confirm_cost_id': {'type': 'string', 'description': 'The cost confirmation ID. Call `confirm_cost` first.'}}, 'required': ['name', 'organization_id', 'confirm_cost_id'], 'additionalProperties': False, '$schema': 'http://json-schema.org/draft-07/schema#'}, outer_typed_dict_key=None, strict=None),\n",
       " ToolDefinition(name='pause_project', description='Pauses a Supabase project.', parameters_json_schema={'type': 'object', 'properties': {'project_id': {'type': 'string'}}, 'required': ['project_id'], 'additionalProperties': False, '$schema': 'http://json-schema.org/draft-07/schema#'}, outer_typed_dict_key=None, strict=None),\n",
       " ToolDefinition(name='restore_project', description='Restores a Supabase project.', parameters_json_schema={'type': 'object', 'properties': {'project_id': {'type': 'string'}}, 'required': ['project_id'], 'additionalProperties': False, '$schema': 'http://json-schema.org/draft-07/schema#'}, outer_typed_dict_key=None, strict=None),\n",
       " ToolDefinition(name='list_organizations', description='Lists all organizations that the user is a member of.', parameters_json_schema={'type': 'object', 'properties': {}, 'additionalProperties': False, '$schema': 'http://json-schema.org/draft-07/schema#'}, outer_typed_dict_key=None, strict=None),\n",
       " ToolDefinition(name='get_organization', description='Gets details for an organization. Includes subscription plan.', parameters_json_schema={'type': 'object', 'properties': {'id': {'type': 'string', 'description': 'The organization ID'}}, 'required': ['id'], 'additionalProperties': False, '$schema': 'http://json-schema.org/draft-07/schema#'}, outer_typed_dict_key=None, strict=None),\n",
       " ToolDefinition(name='list_tables', description='Lists all tables in a schema.', parameters_json_schema={'type': 'object', 'properties': {'project_id': {'type': 'string'}, 'schemas': {'type': 'array', 'items': {'type': 'string'}, 'description': 'Optional list of schemas to include. Defaults to all schemas.'}}, 'required': ['project_id'], 'additionalProperties': False, '$schema': 'http://json-schema.org/draft-07/schema#'}, outer_typed_dict_key=None, strict=None),\n",
       " ToolDefinition(name='list_extensions', description='Lists all extensions in the database.', parameters_json_schema={'type': 'object', 'properties': {'project_id': {'type': 'string'}}, 'required': ['project_id'], 'additionalProperties': False, '$schema': 'http://json-schema.org/draft-07/schema#'}, outer_typed_dict_key=None, strict=None),\n",
       " ToolDefinition(name='list_migrations', description='Lists all migrations in the database.', parameters_json_schema={'type': 'object', 'properties': {'project_id': {'type': 'string'}}, 'required': ['project_id'], 'additionalProperties': False, '$schema': 'http://json-schema.org/draft-07/schema#'}, outer_typed_dict_key=None, strict=None),\n",
       " ToolDefinition(name='apply_migration', description='Applies a migration to the database. Use this when executing DDL operations.', parameters_json_schema={'type': 'object', 'properties': {'project_id': {'type': 'string'}, 'name': {'type': 'string', 'description': 'The name of the migration in snake_case'}, 'query': {'type': 'string', 'description': 'The SQL query to apply'}}, 'required': ['project_id', 'name', 'query'], 'additionalProperties': False, '$schema': 'http://json-schema.org/draft-07/schema#'}, outer_typed_dict_key=None, strict=None),\n",
       " ToolDefinition(name='execute_sql', description='Executes raw SQL in the Postgres database. Use `apply_migration` instead for DDL operations.', parameters_json_schema={'type': 'object', 'properties': {'project_id': {'type': 'string'}, 'query': {'type': 'string', 'description': 'The SQL query to execute'}}, 'required': ['project_id', 'query'], 'additionalProperties': False, '$schema': 'http://json-schema.org/draft-07/schema#'}, outer_typed_dict_key=None, strict=None),\n",
       " ToolDefinition(name='get_logs', description='Gets logs for a Supabase project by service type. Use this to help debug problems with your app. This will only return logs within the last minute. If the logs you are looking for are older than 1 minute, re-run your test to reproduce them.', parameters_json_schema={'type': 'object', 'properties': {'project_id': {'type': 'string'}, 'service': {'type': 'string', 'enum': ['api', 'branch-action', 'postgres', 'edge-function', 'auth', 'storage', 'realtime'], 'description': 'The service to fetch logs for'}}, 'required': ['project_id', 'service'], 'additionalProperties': False, '$schema': 'http://json-schema.org/draft-07/schema#'}, outer_typed_dict_key=None, strict=None),\n",
       " ToolDefinition(name='get_project_url', description='Gets the API URL for a project.', parameters_json_schema={'type': 'object', 'properties': {'project_id': {'type': 'string'}}, 'required': ['project_id'], 'additionalProperties': False, '$schema': 'http://json-schema.org/draft-07/schema#'}, outer_typed_dict_key=None, strict=None),\n",
       " ToolDefinition(name='get_anon_key', description='Gets the anonymous API key for a project.', parameters_json_schema={'type': 'object', 'properties': {'project_id': {'type': 'string'}}, 'required': ['project_id'], 'additionalProperties': False, '$schema': 'http://json-schema.org/draft-07/schema#'}, outer_typed_dict_key=None, strict=None),\n",
       " ToolDefinition(name='generate_typescript_types', description='Generates TypeScript types for a project.', parameters_json_schema={'type': 'object', 'properties': {'project_id': {'type': 'string'}}, 'required': ['project_id'], 'additionalProperties': False, '$schema': 'http://json-schema.org/draft-07/schema#'}, outer_typed_dict_key=None, strict=None),\n",
       " ToolDefinition(name='create_branch', description='Creates a development branch on a Supabase project. This will apply all migrations from the main project to a fresh branch database. Note that production data will not carry over. The branch will get its own project_id via the resulting project_ref. Use this ID to execute queries and migrations on the branch.', parameters_json_schema={'type': 'object', 'properties': {'project_id': {'type': 'string'}, 'name': {'type': 'string', 'default': 'develop', 'description': 'Name of the branch to create'}, 'confirm_cost_id': {'type': 'string', 'description': 'The cost confirmation ID. Call `confirm_cost` first.'}}, 'required': ['project_id', 'confirm_cost_id'], 'additionalProperties': False, '$schema': 'http://json-schema.org/draft-07/schema#'}, outer_typed_dict_key=None, strict=None),\n",
       " ToolDefinition(name='list_branches', description='Lists all development branches of a Supabase project. This will return branch details including status which you can use to check when operations like merge/rebase/reset complete.', parameters_json_schema={'type': 'object', 'properties': {'project_id': {'type': 'string'}}, 'required': ['project_id'], 'additionalProperties': False, '$schema': 'http://json-schema.org/draft-07/schema#'}, outer_typed_dict_key=None, strict=None),\n",
       " ToolDefinition(name='delete_branch', description='Deletes a development branch.', parameters_json_schema={'type': 'object', 'properties': {'branch_id': {'type': 'string'}}, 'required': ['branch_id'], 'additionalProperties': False, '$schema': 'http://json-schema.org/draft-07/schema#'}, outer_typed_dict_key=None, strict=None),\n",
       " ToolDefinition(name='merge_branch', description='Merges migrations and edge functions from a development branch to production.', parameters_json_schema={'type': 'object', 'properties': {'branch_id': {'type': 'string'}}, 'required': ['branch_id'], 'additionalProperties': False, '$schema': 'http://json-schema.org/draft-07/schema#'}, outer_typed_dict_key=None, strict=None),\n",
       " ToolDefinition(name='reset_branch', description='Resets migrations of a development branch. Any untracked data or schema changes will be lost.', parameters_json_schema={'type': 'object', 'properties': {'branch_id': {'type': 'string'}, 'migration_version': {'type': 'string', 'description': 'Reset your development branch to a specific migration version.'}}, 'required': ['branch_id'], 'additionalProperties': False, '$schema': 'http://json-schema.org/draft-07/schema#'}, outer_typed_dict_key=None, strict=None),\n",
       " ToolDefinition(name='rebase_branch', description='Rebases a development branch on production. This will effectively run any newer migrations from production onto this branch to help handle migration drift.', parameters_json_schema={'type': 'object', 'properties': {'branch_id': {'type': 'string'}}, 'required': ['branch_id'], 'additionalProperties': False, '$schema': 'http://json-schema.org/draft-07/schema#'}, outer_typed_dict_key=None, strict=None)]"
      ]
     },
     "execution_count": 6,
     "metadata": {},
     "output_type": "execute_result"
    }
   ],
   "source": [
    "tools"
   ]
  },
  {
   "cell_type": "code",
   "execution_count": 34,
   "id": "ed7768ef-059f-4fbb-b716-3b18143aea50",
   "metadata": {},
   "outputs": [
    {
     "name": "stdout",
     "output_type": "stream",
     "text": [
      "ToolDefinition(name='list_projects', description='Lists all Supabase projects for the user.', parameters_json_schema={'type': 'object', 'properties': {}, 'additionalProperties': False, '$schema': 'http://json-schema.org/draft-07/schema#'}, outer_typed_dict_key=None, strict=None)\n"
     ]
    }
   ],
   "source": [
    "print(tools[0])"
   ]
  },
  {
   "cell_type": "code",
   "execution_count": 26,
   "id": "2562f631-581a-454b-b1a7-964be30620fe",
   "metadata": {},
   "outputs": [
    {
     "data": {
      "text/plain": [
       "ToolDefinition(name='list_extensions', description='Lists all extensions in the database.', parameters_json_schema={'type': 'object', 'properties': {'project_id': {'type': 'string'}}, 'required': ['project_id'], 'additionalProperties': False, '$schema': 'http://json-schema.org/draft-07/schema#'}, outer_typed_dict_key=None, strict=None)"
      ]
     },
     "execution_count": 26,
     "metadata": {},
     "output_type": "execute_result"
    }
   ],
   "source": [
    "tools[10]"
   ]
  },
  {
   "cell_type": "code",
   "execution_count": 3,
   "id": "4df7590e-c315-4ecf-bb25-2071a8662005",
   "metadata": {},
   "outputs": [],
   "source": [
    "async with MCPServerStdio(\n",
    "    params={\n",
    "        \"command\": \"npx\",\n",
    "        \"args\": [\n",
    "             \"-y\",\n",
    "              \"@supabase/mcp-server-supabase@latest\",\n",
    "              \"--access-token\",\n",
    "              os.environ.get(\"SUPABASE_ACCESS_TOKEN\")\n",
    "                ],\n",
    "    }\n",
    ") as server:\n",
    "    tools = await server.list_tools()"
   ]
  }
 ],
 "metadata": {
  "kernelspec": {
   "display_name": "aai",
   "language": "python",
   "name": "python3"
  },
  "language_info": {
   "codemirror_mode": {
    "name": "ipython",
    "version": 3
   },
   "file_extension": ".py",
   "mimetype": "text/x-python",
   "name": "python",
   "nbconvert_exporter": "python",
   "pygments_lexer": "ipython3",
   "version": "3.11.0"
  }
 },
 "nbformat": 4,
 "nbformat_minor": 5
}
